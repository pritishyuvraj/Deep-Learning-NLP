{
 "cells": [
  {
   "cell_type": "code",
   "execution_count": 133,
   "metadata": {
    "collapsed": true
   },
   "outputs": [],
   "source": [
    "import tensorflow as tf \n",
    "import math\n",
    "from pprint import pprint \n",
    "import numpy as np "
   ]
  },
  {
   "cell_type": "code",
   "execution_count": 134,
   "metadata": {
    "collapsed": true
   },
   "outputs": [],
   "source": [
    "vocab_size = 13\n",
    "embeddings_size = 32\n",
    "embeddings = tf.Variable(tf.random_uniform([vocab_size, embeddings_size], -1.0, 1.0))"
   ]
  },
  {
   "cell_type": "code",
   "execution_count": 135,
   "metadata": {
    "collapsed": true
   },
   "outputs": [],
   "source": [
    "#noise-contrastive estimation loss\n",
    "nce_weights = tf.Variable(\n",
    "tf.truncated_normal([vocab_size, embeddings_size], \n",
    "                   stddev = 1.0 / math.sqrt(embeddings_size)))\n",
    "nce_baises = tf.Variable(tf.zeros([vocab_size]))"
   ]
  },
  {
   "cell_type": "code",
   "execution_count": 136,
   "metadata": {},
   "outputs": [
    {
     "name": "stdout",
     "output_type": "stream",
     "text": [
      "(10,) (10, 1)\n"
     ]
    }
   ],
   "source": [
    "train_x = [1, 1, 2, 2, 3, 3, 4, 4, 5, 5]\n",
    "train_y = [[10, 11, 10, 11, 10, 12, 11, 12, 12, 12]]\n",
    "train_x, train_y = np.asarray(train_x), np.asarray(train_y, dtype = \"int64\")\n",
    "train_y = np.transpose(train_y)\n",
    "print (train_x.shape, train_y.shape)"
   ]
  },
  {
   "cell_type": "code",
   "execution_count": 137,
   "metadata": {},
   "outputs": [],
   "source": [
    "#Placeholder for inputs\n",
    "batch_size = 10\n",
    "train_inputs = tf.placeholder(tf.int32, shape = [batch_size])\n",
    "train_labels = tf.placeholder(tf.int32, shape = [batch_size, 1])"
   ]
  },
  {
   "cell_type": "code",
   "execution_count": 138,
   "metadata": {
    "collapsed": true
   },
   "outputs": [],
   "source": [
    "embed = tf.nn.embedding_lookup(embeddings, train_inputs)"
   ]
  },
  {
   "cell_type": "code",
   "execution_count": 139,
   "metadata": {},
   "outputs": [],
   "source": [
    "loss = tf.reduce_mean(\n",
    "tf.nn.nce_loss(weights=nce_weights,\n",
    "              biases = nce_baises,\n",
    "              labels = train_labels,\n",
    "              inputs = embed,\n",
    "               num_sampled = 10,\n",
    "                num_classes = vocab_size))"
   ]
  },
  {
   "cell_type": "code",
   "execution_count": 140,
   "metadata": {
    "collapsed": true
   },
   "outputs": [],
   "source": [
    "optimizer = tf.train.GradientDescentOptimizer(learning_rate=1.0).minimize(loss)\n"
   ]
  },
  {
   "cell_type": "code",
   "execution_count": 148,
   "metadata": {},
   "outputs": [
    {
     "name": "stdout",
     "output_type": "stream",
     "text": [
      "(10,) (10, 1)\n",
      "9.69279\n",
      "1.54294\n",
      "1.43153\n",
      "1.39855\n",
      "1.9923\n"
     ]
    }
   ],
   "source": [
    "with tf.Session() as sess:\n",
    "    sess.run(tf.global_variables_initializer())\n",
    "    feed_dict = {train_inputs: train_x, train_labels: train_y}\n",
    "    print (train_x.shape, train_y.shape)\n",
    "    for i in xrange(50):\n",
    "        _, cur_loss = sess.run([optimizer, loss], feed_dict=feed_dict)\n",
    "        if i%10 == 0: print (cur_loss)\n",
    "    word_embeddings = sess.run(embeddings)"
   ]
  },
  {
   "cell_type": "code",
   "execution_count": 150,
   "metadata": {},
   "outputs": [
    {
     "name": "stdout",
     "output_type": "stream",
     "text": [
      "(13, 32)\n"
     ]
    }
   ],
   "source": [
    "print (word_embeddings.shape)"
   ]
  }
 ],
 "metadata": {
  "kernelspec": {
   "display_name": "Python 2",
   "language": "python",
   "name": "python2"
  },
  "language_info": {
   "codemirror_mode": {
    "name": "ipython",
    "version": 2
   },
   "file_extension": ".py",
   "mimetype": "text/x-python",
   "name": "python",
   "nbconvert_exporter": "python",
   "pygments_lexer": "ipython2",
   "version": "2.7.14"
  }
 },
 "nbformat": 4,
 "nbformat_minor": 2
}
