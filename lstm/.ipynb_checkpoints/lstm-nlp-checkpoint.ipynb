{
 "cells": [
  {
   "cell_type": "code",
   "execution_count": 46,
   "metadata": {},
   "outputs": [],
   "source": [
    "import re \n",
    "from pprint import pprint "
   ]
  },
  {
   "cell_type": "code",
   "execution_count": 49,
   "metadata": {
    "collapsed": true
   },
   "outputs": [],
   "source": [
    "Data = \"\"\"\n",
    "I study at University of Massachusetts Amherst. \n",
    "I love staying here. Its fun here. \n",
    "It is quite cold out here. But I love this weather. \n",
    "I wish I could be pursuing my UnderGrad here.\n",
    "\"\"\""
   ]
  },
  {
   "cell_type": "code",
   "execution_count": 73,
   "metadata": {},
   "outputs": [],
   "source": [
    "def display(X, Y):\n",
    "    for i, j in zip(X, Y):\n",
    "        print i, Y[j]"
   ]
  },
  {
   "cell_type": "code",
   "execution_count": 76,
   "metadata": {},
   "outputs": [
    {
     "name": "stdout",
     "output_type": "stream",
     "text": [
      "['i', 'study', 'at', 'university', 'of', 'massachusetts', 'amherst'] 1\n",
      "['i', 'love', 'staying', 'here'] 2\n",
      "['its', 'fun', 'here'] 2\n",
      "['it', 'is', 'quite', 'cold', 'out', 'here'] 0\n",
      "['but', 'i', 'love', 'this', 'weather'] 2\n",
      "['i', 'wish', 'i', 'could', 'be', 'pursuing', 'my', 'undergrad', 'here'] 1\n"
     ]
    }
   ],
   "source": [
    "X = [x for x in Data.strip().split('.') if x != '']\n",
    "Y = {}\n",
    "#RegEx\n",
    "import re \n",
    "for index, sentence in enumerate(X):\n",
    "    X[index], Y[index] = re.findall(r\"\\w+\", sentence.lower()), 0\n",
    "#print (X, Y)\n",
    "Y[0] = 1\n",
    "Y[1] = 2\n",
    "Y[2] = 2\n",
    "Y[3] = 0\n",
    "Y[4] = 2\n",
    "Y[5] = 1\n",
    "display(X, Y)\n",
    "sentence_x, sentiment_y = X, Y\n",
    "#0: negative\n",
    "#1: Neutral\n",
    "#2: Positive"
   ]
  },
  {
   "cell_type": "code",
   "execution_count": 86,
   "metadata": {},
   "outputs": [],
   "source": [
    "#Finding Unique Vocabulory\n",
    "word2index = {}\n",
    "count = 0\n",
    "for sentence in sentence_x:\n",
    "    for word in sentence:\n",
    "        if word not in unique_words:\n",
    "            word2index[count] = word \n",
    "            count += 1 \n",
    "index2words = dict((v, k) for k, v in word2index.iteritems())\n",
    "#pprint(word2index)\n",
    "#pprint(index2words)"
   ]
  },
  {
   "cell_type": "code",
   "execution_count": 87,
   "metadata": {
    "collapsed": true
   },
   "outputs": [],
   "source": [
    "#Padding \n",
    "length = 10\n",
    "for sent_index, sentence in enumerate(sentence_x):\n",
    "    if len(sentence)<10:\n",
    "        #Padding\n",
    "        sentence_x[sent_index] += [\"<pad>\" for x in xrange(len(sentence), length)]\n",
    "    else:\n",
    "        sentence_x[sent_index] = sentence_x[sent_index][0:length]\n"
   ]
  },
  {
   "cell_type": "code",
   "execution_count": 93,
   "metadata": {},
   "outputs": [
    {
     "name": "stdout",
     "output_type": "stream",
     "text": [
      "[10, 10, 10, 10, 10, 10]\n",
      "[['i', 'study', 'at', 'university', 'of', 'massachusetts', 'amherst', '<pad>', '<pad>', '<pad>'], ['i', 'love', 'staying', 'here', '<pad>', '<pad>', '<pad>', '<pad>', '<pad>', '<pad>'], ['its', 'fun', 'here', '<pad>', '<pad>', '<pad>', '<pad>', '<pad>', '<pad>', '<pad>'], ['it', 'is', 'quite', 'cold', 'out', 'here', '<pad>', '<pad>', '<pad>', '<pad>'], ['but', 'i', 'love', 'this', 'weather', '<pad>', '<pad>', '<pad>', '<pad>', '<pad>'], ['i', 'wish', 'i', 'could', 'be', 'pursuing', 'my', 'undergrad', 'here', '<pad>']]\n"
     ]
    }
   ],
   "source": [
    "#Padding\n",
    "print ([len(sent) for sent in sentence_x])\n",
    "print sentence_x"
   ]
  },
  {
   "cell_type": "code",
   "execution_count": 1,
   "metadata": {
    "collapsed": true
   },
   "outputs": [],
   "source": [
    "import tensorflow as tf \n",
    "from tensorflow.contrib import rnn"
   ]
  },
  {
   "cell_type": "code",
   "execution_count": 2,
   "metadata": {
    "collapsed": true
   },
   "outputs": [],
   "source": [
    "#Training Parameters\n",
    "learning_rate = 0.001\n",
    "training_steps = 1000\n",
    "batch_size = 128\n",
    "display_step = 200"
   ]
  },
  {
   "cell_type": "code",
   "execution_count": 3,
   "metadata": {
    "collapsed": true
   },
   "outputs": [],
   "source": [
    "#Network parameters \n",
    "num_input = 28\n",
    "timesteps = 28\n",
    "num_hidden = 128\n",
    "num_classes = 10"
   ]
  },
  {
   "cell_type": "code",
   "execution_count": 4,
   "metadata": {
    "collapsed": true
   },
   "outputs": [],
   "source": [
    "#tf Graph input\n",
    "X = tf.placeholder(\"float\", [None, timesteps, num_input])\n",
    "Y = tf.placeholder(\"float\", [None, num_classes])"
   ]
  },
  {
   "cell_type": "code",
   "execution_count": null,
   "metadata": {
    "collapsed": true
   },
   "outputs": [],
   "source": []
  }
 ],
 "metadata": {
  "kernelspec": {
   "display_name": "Python 2",
   "language": "python",
   "name": "python2"
  },
  "language_info": {
   "codemirror_mode": {
    "name": "ipython",
    "version": 2
   },
   "file_extension": ".py",
   "mimetype": "text/x-python",
   "name": "python",
   "nbconvert_exporter": "python",
   "pygments_lexer": "ipython2",
   "version": "2.7.14"
  }
 },
 "nbformat": 4,
 "nbformat_minor": 2
}
