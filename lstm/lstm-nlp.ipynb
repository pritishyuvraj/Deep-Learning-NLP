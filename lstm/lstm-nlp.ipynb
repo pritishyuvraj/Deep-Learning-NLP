{
 "cells": [
  {
   "cell_type": "code",
   "execution_count": 46,
   "metadata": {},
   "outputs": [],
   "source": [
    "import re \n",
    "from pprint import pprint "
   ]
  },
  {
   "cell_type": "code",
   "execution_count": 49,
   "metadata": {
    "collapsed": true
   },
   "outputs": [],
   "source": [
    "Data = \"\"\"\n",
    "I study at University of Massachusetts Amherst. \n",
    "I love staying here. Its fun here. \n",
    "It is quite cold out here. But I love this weather. \n",
    "I wish I could be pursuing my UnderGrad here.\n",
    "\"\"\""
   ]
  },
  {
   "cell_type": "code",
   "execution_count": 73,
   "metadata": {},
   "outputs": [],
   "source": [
    "def display(X, Y):\n",
    "    for i, j in zip(X, Y):\n",
    "        print i, Y[j]"
   ]
  },
  {
   "cell_type": "code",
   "execution_count": 112,
   "metadata": {},
   "outputs": [
    {
     "name": "stdout",
     "output_type": "stream",
     "text": [
      "['i', 'study', 'at', 'university', 'of', 'massachusetts', 'amherst'] 1\n",
      "['i', 'love', 'staying', 'here'] 2\n",
      "['its', 'fun', 'here'] 2\n",
      "['it', 'is', 'quite', 'cold', 'out', 'here'] 0\n",
      "['but', 'i', 'love', 'this', 'weather'] 2\n",
      "['i', 'wish', 'i', 'could', 'be', 'pursuing', 'my', 'undergrad', 'here'] 1\n"
     ]
    }
   ],
   "source": [
    "X = [x for x in Data.strip().split('.') if x != '']\n",
    "Y = {}\n",
    "#RegEx\n",
    "import re \n",
    "for index, sentence in enumerate(X):\n",
    "    X[index], Y[index] = re.findall(r\"\\w+\", sentence.lower()), 0\n",
    "#print (X, Y)\n",
    "Y[0] = 1\n",
    "Y[1] = 2\n",
    "Y[2] = 2\n",
    "Y[3] = 0\n",
    "Y[4] = 2\n",
    "Y[5] = 1\n",
    "display(X, Y)\n",
    "sentence_x, sentiment_y = X, Y\n",
    "#0: negative\n",
    "#1: Neutral\n",
    "#2: Positive"
   ]
  },
  {
   "cell_type": "code",
   "execution_count": 113,
   "metadata": {
    "collapsed": true
   },
   "outputs": [],
   "source": [
    "#Padding \n",
    "length = 10\n",
    "for sent_index, sentence in enumerate(sentence_x):\n",
    "    if len(sentence)<10:\n",
    "        #Padding\n",
    "        sentence_x[sent_index] += [\"<pad>\" for x in xrange(len(sentence), length)]\n",
    "    else:\n",
    "        sentence_x[sent_index] = sentence_x[sent_index][0:length]\n"
   ]
  },
  {
   "cell_type": "code",
   "execution_count": 114,
   "metadata": {},
   "outputs": [
    {
     "name": "stdout",
     "output_type": "stream",
     "text": [
      "[10, 10, 10, 10, 10, 10]\n",
      "[['i', 'study', 'at', 'university', 'of', 'massachusetts', 'amherst', '<pad>', '<pad>', '<pad>'], ['i', 'love', 'staying', 'here', '<pad>', '<pad>', '<pad>', '<pad>', '<pad>', '<pad>'], ['its', 'fun', 'here', '<pad>', '<pad>', '<pad>', '<pad>', '<pad>', '<pad>', '<pad>'], ['it', 'is', 'quite', 'cold', 'out', 'here', '<pad>', '<pad>', '<pad>', '<pad>'], ['but', 'i', 'love', 'this', 'weather', '<pad>', '<pad>', '<pad>', '<pad>', '<pad>'], ['i', 'wish', 'i', 'could', 'be', 'pursuing', 'my', 'undergrad', 'here', '<pad>']]\n"
     ]
    }
   ],
   "source": [
    "#Padding\n",
    "print ([len(sent) for sent in sentence_x])\n",
    "print sentence_x"
   ]
  },
  {
   "cell_type": "code",
   "execution_count": 118,
   "metadata": {},
   "outputs": [
    {
     "name": "stdout",
     "output_type": "stream",
     "text": [
      "{0: 0,\n",
      " 1: 1,\n",
      " 2: 2,\n",
      " 3: 3,\n",
      " 4: 4,\n",
      " 5: 5,\n",
      " 6: 6,\n",
      " 7: 7,\n",
      " 8: 8,\n",
      " 9: 9,\n",
      " 10: 10,\n",
      " 11: 11,\n",
      " 12: 12,\n",
      " 13: 13,\n",
      " 14: 14,\n",
      " 15: 15,\n",
      " 16: 16,\n",
      " 17: 17,\n",
      " 18: 18,\n",
      " 19: 19,\n",
      " 20: 20,\n",
      " 21: 21,\n",
      " 22: 22,\n",
      " 23: 23,\n",
      " 24: 24,\n",
      " 25: 25,\n",
      " 26: 26}\n"
     ]
    }
   ],
   "source": [
    "#Finding Unique Vocabulory\n",
    "word2index = {}\n",
    "count = 0\n",
    "for sentence in sentence_x:\n",
    "    for word in sentence:\n",
    "        if word not in word2index:\n",
    "            word2index[word] = count\n",
    "            count += 1 \n",
    "index2words = dict((v, k) for k, v in word2index.iteritems())\n",
    "pprint(word2index)\n",
    "#pprint(index2words)"
   ]
  },
  {
   "cell_type": "code",
   "execution_count": 119,
   "metadata": {},
   "outputs": [
    {
     "name": "stdout",
     "output_type": "stream",
     "text": [
      "[[0, 1, 2, 3, 4, 5, 6, 7, 7, 7], [0, 8, 9, 10, 7, 7, 7, 7, 7, 7], [11, 12, 10, 7, 7, 7, 7, 7, 7, 7], [13, 14, 15, 16, 17, 10, 7, 7, 7, 7], [18, 0, 8, 19, 20, 7, 7, 7, 7, 7], [0, 21, 0, 22, 23, 24, 25, 26, 10, 7]]\n"
     ]
    }
   ],
   "source": [
    "#Converting Words to indexes\n",
    "for sent_index, sent in enumerate(sentence_x):\n",
    "    for word_index, word in enumerate(sent):\n",
    "        sentence_x[sent_index][word_index] = word2index[sentence_x[sent_index][word_index]]\n",
    "print sentence_x"
   ]
  },
  {
   "cell_type": "code",
   "execution_count": null,
   "metadata": {
    "collapsed": true
   },
   "outputs": [],
   "source": [
    "#One hot encoding\n",
    "def one_hot(array, list_length):\n",
    "    return_array = []\n",
    "    for index in xrange(array):\n",
    "        temp = [0 for x in xrange(list_length)]\n",
    "        temp[]\n",
    "    \n",
    "    "
   ]
  },
  {
   "cell_type": "code",
   "execution_count": 1,
   "metadata": {
    "collapsed": true
   },
   "outputs": [],
   "source": [
    "import tensorflow as tf \n",
    "from tensorflow.contrib import rnn"
   ]
  },
  {
   "cell_type": "code",
   "execution_count": 2,
   "metadata": {
    "collapsed": true
   },
   "outputs": [],
   "source": [
    "#Training Parameters\n",
    "learning_rate = 0.001\n",
    "training_steps = 1000\n",
    "batch_size = 128\n",
    "display_step = 200"
   ]
  },
  {
   "cell_type": "code",
   "execution_count": 3,
   "metadata": {
    "collapsed": true
   },
   "outputs": [],
   "source": [
    "#Network parameters \n",
    "num_input = 28\n",
    "timesteps = 28\n",
    "num_hidden = 128\n",
    "num_classes = 10"
   ]
  },
  {
   "cell_type": "code",
   "execution_count": 4,
   "metadata": {
    "collapsed": true
   },
   "outputs": [],
   "source": [
    "#tf Graph input\n",
    "X = tf.placeholder(\"float\", [None, timesteps, num_input])\n",
    "Y = tf.placeholder(\"float\", [None, num_classes])"
   ]
  },
  {
   "cell_type": "code",
   "execution_count": null,
   "metadata": {
    "collapsed": true
   },
   "outputs": [],
   "source": []
  }
 ],
 "metadata": {
  "kernelspec": {
   "display_name": "Python 2",
   "language": "python",
   "name": "python2"
  },
  "language_info": {
   "codemirror_mode": {
    "name": "ipython",
    "version": 2
   },
   "file_extension": ".py",
   "mimetype": "text/x-python",
   "name": "python",
   "nbconvert_exporter": "python",
   "pygments_lexer": "ipython2",
   "version": "2.7.14"
  }
 },
 "nbformat": 4,
 "nbformat_minor": 2
}
